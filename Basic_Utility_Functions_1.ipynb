{
 "cells": [
  {
   "cell_type": "code",
   "execution_count": 11,
   "id": "41d5d7ba",
   "metadata": {},
   "outputs": [],
   "source": [
    "import cv2\n",
    "import numpy as np"
   ]
  },
  {
   "cell_type": "code",
   "execution_count": 8,
   "id": "72b7a4e0",
   "metadata": {},
   "outputs": [],
   "source": [
    "#Load 2 images\n",
    "#Addition of images\n",
    "\n",
    "img1 = cv2.imread(\"Images/B_W.png\")\n",
    "img2 = cv2.imread(\"Images/water_bg.jpg\")\n",
    "\n",
    "weightedsum = cv2.addWeighted(img1, 0.8, img2, 0.2, 0)\n",
    "cv2.imshow(\"weighted image\", weightedsum)\n",
    "cv2.waitKey(0)\n",
    "cv2.destroyAllWindows()"
   ]
  },
  {
   "cell_type": "code",
   "execution_count": 10,
   "id": "68695ef7",
   "metadata": {},
   "outputs": [],
   "source": [
    "#Subtraction of images\n",
    "\n",
    "img1 = cv2.imread(\"Images/B_W.png\")\n",
    "img2 = cv2.imread(\"Images/water_bg.jpg\")\n",
    "\n",
    "sub = cv2.subtract(img2, img1)\n",
    "cv2.imshow(\"Subtracted Image\", sub)\n",
    "cv2.waitKey(0)\n",
    "cv2.destroyAllWindows()"
   ]
  },
  {
   "cell_type": "code",
   "execution_count": 12,
   "id": "44994bc1",
   "metadata": {},
   "outputs": [],
   "source": [
    "img3 = cv2.imread(\"Images/water_bg.jpg\")\n",
    "cv2.imshow(\"Original Image\", img3)\n",
    "\n",
    "#Order of dimensions is width, height\n",
    "resized = cv2.resize(img3, (500, 250))\n",
    "cv2.imshow(\"Reduced Image\", resized)\n",
    "cv2.waitKey(0)\n",
    "cv2.destroyAllWindows()"
   ]
  },
  {
   "cell_type": "code",
   "execution_count": 14,
   "id": "9e80e7db",
   "metadata": {},
   "outputs": [],
   "source": [
    "#Erosion of an image - Corners are trimmed in erosion\n",
    "img4 = cv2.imread(\"Images/space_bg.png\")\n",
    "\n",
    "#Kernel is used for erosion as an input\n",
    "kernel = np.ones((5, 5), np.uint8)\n",
    "image = cv2.erode(img4, kernel)\n",
    "cv2.imshow(\"Eroded Image\", image)\n",
    "cv2.waitKey(0)\n",
    "cv2.destroyAllWindows()"
   ]
  },
  {
   "cell_type": "code",
   "execution_count": null,
   "id": "dd643f31",
   "metadata": {},
   "outputs": [],
   "source": [
    "#Blurring of an image\n",
    "#Blurring are of 3 types: Gaussian Blur, Median Blur, Bilateral Blur\n",
    "\n",
    "img5 = cv2.imread(\"Images/scenery3.jpeg\")\n",
    "cv2.imshow(\"Original Image\", img5)\n",
    "cv2.waitKey(0)\n",
    "\n",
    "#Gaussian Blur - Used mostly in machine learning pre-processing steps\n",
    "gaussian = cv2.GaussianBlur(img5, (7, 7), 0)\n",
    "cv2.imshow(\"Gaussian Blurring\", gaussian)\n",
    "\n",
    "#Median Blur - Used in digital processing, it preserved ages but removes noise\n",
    "median = cv2.medianBlur(img5, 5)\n",
    "cv2.imshow(\"Median Blur\", median)\n",
    "cv2.waitKey(0)\n",
    "\n",
    "#Bilateral Blur - Only sharp edges are preserved here\n",
    "bilateral = cv2.bilateralFilter(img5, 9, 75, 75)\n",
    "cv2.imshow(\"Bilateral Filtering\", bilateral)\n",
    "cv2.waitKey(0)\n",
    "cv2.destroyAllWindows()"
   ]
  },
  {
   "cell_type": "code",
   "execution_count": null,
   "id": "a2007109",
   "metadata": {},
   "outputs": [],
   "source": [
    "#Bordering of an image\n",
    "img6 = cv2.imread(\"Images/scenery1.jpg\")\n",
    "bordered_image = cv2.copyMakeBorder(img6, 10, 10, 10, 10, cv2.BORDER_CONSTANT, value= 1)\n",
    "cv2.imshow(\"Original Image\", bordered_image)\n",
    "cv2.waitKey(0)\n",
    "cv2.destroyAllWindows()"
   ]
  },
  {
   "cell_type": "code",
   "execution_count": null,
   "id": "615b78d1",
   "metadata": {},
   "outputs": [],
   "source": [
    "#Reflective Border of an image\n",
    "img6 = cv2.imread(\"Images/scenery1.jpg\")\n",
    "bordered_image = cv2.copyMakeBorder(img6, 10, 10, 10, 10, cv2.BORDER_REFLECT, value= 1)\n",
    "cv2.imshow(\"Original Image\", bordered_image)\n",
    "cv2.waitKey(0)\n",
    "cv2.destroyAllWindows()"
   ]
  }
 ],
 "metadata": {
  "kernelspec": {
   "display_name": "Python 3",
   "language": "python",
   "name": "python3"
  },
  "language_info": {
   "codemirror_mode": {
    "name": "ipython",
    "version": 3
   },
   "file_extension": ".py",
   "mimetype": "text/x-python",
   "name": "python",
   "nbconvert_exporter": "python",
   "pygments_lexer": "ipython3",
   "version": "3.11.9"
  }
 },
 "nbformat": 4,
 "nbformat_minor": 5
}
