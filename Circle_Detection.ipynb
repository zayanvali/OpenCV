{
 "cells": [
  {
   "cell_type": "code",
   "execution_count": 1,
   "id": "51cbee56",
   "metadata": {},
   "outputs": [],
   "source": [
    "import cv2\n",
    "import numpy as np"
   ]
  },
  {
   "cell_type": "code",
   "execution_count": 2,
   "id": "077bd995",
   "metadata": {},
   "outputs": [
    {
     "ename": "",
     "evalue": "",
     "output_type": "error",
     "traceback": [
      "\u001b[1;31mThe Kernel crashed while executing code in the current cell or a previous cell. \n",
      "\u001b[1;31mPlease review the code in the cell(s) to identify a possible cause of the failure. \n",
      "\u001b[1;31mClick <a href='https://aka.ms/vscodeJupyterKernelCrash'>here</a> for more info. \n",
      "\u001b[1;31mView Jupyter <a href='command:jupyter.viewOutput'>log</a> for further details."
     ]
    }
   ],
   "source": [
    "img1 = cv2.imread(\"Images/scenery2.jpeg\", cv2.IMREAD_COLOR)\n",
    "grey = cv2.cvtColor(img1, cv2.COLOR_BGR2GRAY)\n",
    "grey_blurred = cv2.blur(grey, (3, 3))\n",
    "\n",
    "#To identify circles in an image we will use the function houghcircles\n",
    "detected_circles = cv2.HoughCircles(grey_blurred, cv2.HOUGH_GRADIENT, 1, 20, param1=50, param2=30, minRadius=1, maxRadius=40)\n",
    "\n",
    "if detected_circles is not None:\n",
    "    detected_circles = np.uint16(np.around(detected_circles))\n",
    "    for pt in detected_circles[0, :]:\n",
    "        a, b, r = pt[0], pt[1], pt[2]\n",
    "        cv2.circle(img1, (a, b), r, (0, 255, 0), 2)\n",
    "        cv2.circle(img1, (a, b), 1, (0, 0, 255), 3)\n",
    "        cv2.imshow(\"Detected Circles\", img1)\n",
    "        cv2.waitKey(0)\n",
    "cv2.destroyAllWindows()"
   ]
  },
  {
   "cell_type": "code",
   "execution_count": 6,
   "id": "44ef4cc2",
   "metadata": {},
   "outputs": [],
   "source": [
    "#Count the number of circles in the image\n",
    "img2 = cv2.imread(\"Images/scenery1.jpg\", 0)\n",
    "\n",
    "params = cv2.SimpleBlobDetector_Params()\n",
    "#Area filtering\n",
    "# Set Area filtering parameters\n",
    "params.filterByArea = True\n",
    "params.minArea = 100\n",
    "# Set Circularity filtering parameters\n",
    "params.filterByCircularity = True\n",
    "params.minCircularity = 0.9\n",
    "# Set Convexity filtering parameters\n",
    "params.filterByConvexity = True\n",
    "params.minConvexity = 0.2\n",
    "# Set inertia filtering parameters\n",
    "params.filterByInertia = True\n",
    "params.minInertiaRatio = 0.01\n",
    "# Create a detector with the parameters\n",
    "detector = cv2.SimpleBlobDetector_create(params)\n",
    "\t\n",
    "# Detect blobs\n",
    "keypoints = detector.detect(img2)\n",
    "\n",
    "#Draw blobs on our image as red circles\n",
    "blank = np.zeros((1, 1))\n",
    "blobs = cv2.drawKeypoints(img2, keypoints, blank, (0, 0, 255), cv2.DRAW_MATCHES_FLAGS_DRAW_RICH_KEYPOINTS)\n",
    "\n",
    "number_of_blobs = len(keypoints)\n",
    "text = \"Number Of Circular Blobs: \" + str(len(keypoints))\n",
    "cv2.putText(blobs, text, (20, 550), cv2.FONT_HERSHEY_SIMPLEX, 1, (0, 100, 255), 2)\n",
    "\n",
    "# Show blobs\n",
    "cv2.imshow(\"Filtering Circular Blobs Only\", blobs)\n",
    "cv2.waitKey(0)\n",
    "cv2.destroyAllWindows()\n"
   ]
  }
 ],
 "metadata": {
  "kernelspec": {
   "display_name": "Python 3",
   "language": "python",
   "name": "python3"
  },
  "language_info": {
   "codemirror_mode": {
    "name": "ipython",
    "version": 3
   },
   "file_extension": ".py",
   "mimetype": "text/x-python",
   "name": "python",
   "nbconvert_exporter": "python",
   "pygments_lexer": "ipython3",
   "version": "3.11.9"
  }
 },
 "nbformat": 4,
 "nbformat_minor": 5
}
