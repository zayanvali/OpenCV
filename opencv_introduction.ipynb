{
 "cells": [
  {
   "cell_type": "code",
   "execution_count": 2,
   "id": "8b5a3ed1",
   "metadata": {},
   "outputs": [],
   "source": [
    "#pip install opencv-python"
   ]
  },
  {
   "cell_type": "code",
   "execution_count": 3,
   "id": "a48d2ead",
   "metadata": {},
   "outputs": [],
   "source": [
    "import cv2"
   ]
  },
  {
   "cell_type": "code",
   "execution_count": null,
   "metadata": {},
   "outputs": [],
   "source": [
    "#loading an image using openCV\n",
    "img1 = cv2.imread(\"Images/scenery1.jpg\")\n",
    "cv2.imshow(\"Display Image\", img1)\n",
    "cv2.waitKey(0)\n",
    "cv2.destroyAllWindows()"
   ]
  },
  {
   "cell_type": "code",
   "execution_count": 7,
   "id": "5a6b6742",
   "metadata": {},
   "outputs": [],
   "source": [
    "#Loading a colour image using openCV\n",
    "#img2 = cv2.imread(\"Images/scenery2.jpeg\", cv2.IMREAD_COLOR)\n",
    "img2 = cv2.imread(\"Images/scenery2.jpeg\", 1)\n",
    "cv2.imshow(\"Color Image\", img2)\n",
    "cv2.waitKey(0)\n",
    "cv2.destroyAllWindows()"
   ]
  },
  {
   "cell_type": "code",
   "execution_count": 10,
   "id": "5e8e91c4",
   "metadata": {},
   "outputs": [],
   "source": [
    "#loading a black and white image\n",
    "#img3 = cv2.imread(\"Images/scenery2.jpeg\", cv2.IMREAD_GRAYSCALE)\n",
    "img3 = cv2.imread(\"Images/scenery2.jpeg\", 0)\n",
    "cv2.imshow(\"Grayscale Image\", img3)\n",
    "cv2.waitKey(0)\n",
    "cv2.destroyAllWindows()"
   ]
  },
  {
   "cell_type": "code",
   "execution_count": 11,
   "id": "96593f15",
   "metadata": {},
   "outputs": [
    {
     "name": "stdout",
     "output_type": "stream",
     "text": [
      "Successfully saved\n"
     ]
    }
   ],
   "source": [
    "#edit image and save the image in a different path\n",
    "import os\n",
    "\n",
    "saved_directory = \"C:/Users/valim/Downloads/JetLearn/OpenCV\"\n",
    "img4 = cv2.imread(\"Images/scenery2.jpeg\", 0)\n",
    "cv2.imshow(\"New Image\", img4)\n",
    "cv2.waitKey(0)\n",
    "cv2.destroyAllWindows()\n",
    "\n",
    "os.chdir(saved_directory)\n",
    "cv2.imwrite(\"modified_image.png\", img4)\n",
    "print(\"Successfully saved\")"
   ]
  },
  {
   "cell_type": "code",
   "execution_count": 12,
   "id": "1d6a5631",
   "metadata": {},
   "outputs": [],
   "source": [
    "#Print an image in different color formats\n",
    "img5 = cv2.imread(\"Images/scenery3.jpeg\", 1)\n",
    "\n",
    "#split the above image in red, blue and green saturations\n",
    "B, G, R = cv2.split(img5)\n",
    "\n",
    "cv2.imshow(\"original\", img5)\n",
    "cv2.waitKey(0)\n",
    "\n",
    "cv2.imshow(\"Blue Saturation Image\", B)\n",
    "cv2.waitKey(0)\n",
    "\n",
    "cv2.imshow(\"Green Saturation Image\", G)\n",
    "cv2.waitKey(0)\n",
    "\n",
    "cv2.imshow(\"Red Saturation Image\", R)\n",
    "cv2.waitKey(0)\n",
    "\n",
    "cv2.destroyAllWindows()"
   ]
  }
 ],
 "metadata": {
  "kernelspec": {
   "display_name": "Python 3",
   "language": "python",
   "name": "python3"
  },
  "language_info": {
   "codemirror_mode": {
    "name": "ipython",
    "version": 3
   },
   "file_extension": ".py",
   "mimetype": "text/x-python",
   "name": "python",
   "nbconvert_exporter": "python",
   "pygments_lexer": "ipython3",
   "version": "3.11.9"
  }
 },
 "nbformat": 4,
 "nbformat_minor": 5
}
