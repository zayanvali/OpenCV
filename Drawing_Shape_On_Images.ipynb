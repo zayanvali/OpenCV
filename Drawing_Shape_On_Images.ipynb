{
 "cells": [
  {
   "cell_type": "code",
   "execution_count": 2,
   "id": "2ad79591",
   "metadata": {},
   "outputs": [],
   "source": [
    "import cv2\n",
    "import numpy as np"
   ]
  },
  {
   "cell_type": "code",
   "execution_count": 5,
   "id": "4a6f9546",
   "metadata": {},
   "outputs": [],
   "source": [
    "#Drawing line on the image\n",
    "img1 = cv2.imread(\"Images/scenery3.jpeg\")\n",
    "start_point = (0, 0)\n",
    "end_point = (450, 450)\n",
    "color = (255, 0, 0)\n",
    "thickness = 9\n",
    "line = cv2.line(img1, start_point, end_point, color, thickness)\n",
    "cv2.imshow(\"Line Image\", line)\n",
    "cv2.waitKey(0)\n",
    "cv2.destroyAllWindows()"
   ]
  },
  {
   "cell_type": "code",
   "execution_count": 6,
   "id": "df79d1e2",
   "metadata": {},
   "outputs": [],
   "source": [
    "#Drawing a rectangle on an image\n",
    "img2 = cv2.imread(\"Images/scenery3.jpeg\")\n",
    "start_point = (50, 75)\n",
    "end_point = (450, 450)\n",
    "color = (255, 0, 0)\n",
    "thickness = 9\n",
    "rectangle = cv2.rectangle(img2, start_point, end_point, color, thickness)\n",
    "cv2.imshow(\"Rectangle Image\", rectangle)\n",
    "cv2.waitKey(0)\n",
    "cv2.destroyAllWindows()"
   ]
  },
  {
   "cell_type": "code",
   "execution_count": 7,
   "id": "ce0dded1",
   "metadata": {},
   "outputs": [],
   "source": [
    "#Draw filled rectangle on the image\n",
    "img3 = cv2.imread(\"Images/scenery3.jpeg\")\n",
    "start_point = (50, 75)\n",
    "end_point = (450, 450)\n",
    "color = (255, 0, 0)\n",
    "thickness = -1\n",
    "rectangle = cv2.rectangle(img3, start_point, end_point, color, thickness)\n",
    "cv2.imshow(\"Rectangle Image\", rectangle)\n",
    "cv2.waitKey(0)\n",
    "cv2.destroyAllWindows()"
   ]
  },
  {
   "cell_type": "code",
   "execution_count": 8,
   "id": "a6a41815",
   "metadata": {},
   "outputs": [],
   "source": [
    "#Draw a filled circle on the image\n",
    "img4 = cv2.imread(\"Images/scenery3.jpeg\")\n",
    "window_name = \"Circle Image\"\n",
    "centre_coords = (400, 300)\n",
    "radius = 20\n",
    "color = (0, 0, 255)\n",
    "color2 = (255, 0, 255)\n",
    "thickness = 5\n",
    "radius_2 = radius-thickness\n",
    "thickness_2 = -1\n",
    "circle = cv2.circle(img4, centre_coords, radius, color, thickness)\n",
    "circle2 = cv2.circle(img4, centre_coords, radius_2, color2, thickness_2)\n",
    "cv2.imshow(window_name, circle)\n",
    "cv2.imshow(window_name, circle2)\n",
    "cv2.waitKey(0)\n",
    "cv2.destroyAllWindows()"
   ]
  },
  {
   "cell_type": "code",
   "execution_count": 9,
   "id": "ae5b62b2",
   "metadata": {},
   "outputs": [],
   "source": [
    "#Drawing text on image\n",
    "img5 = cv2.imread(\"Images/scenery3.jpeg\")\n",
    "#font for setting up the text specifications\n",
    "font = cv2.FONT_HERSHEY_COMPLEX\n",
    "origin = (100, 200)\n",
    "font_scale = 1\n",
    "color = (0, 0, 255)\n",
    "thickness = 2\n",
    "\n",
    "text_img = cv2.putText(img5, \"This is my first text with OpenCV!!!!\", origin, font, font_scale, color, thickness, cv2.LINE_AA)\n",
    "\n",
    "cv2.imshow(\"Text\", text_img)\n",
    "cv2.waitKey(0)\n",
    "cv2.destroyAllWindows()"
   ]
  },
  {
   "cell_type": "code",
   "execution_count": 10,
   "id": "5cb9e5ac",
   "metadata": {},
   "outputs": [],
   "source": [
    "#Draw elipse on image\n",
    "img6 = cv2.imread(\"Images/scenery3.jpeg\")\n",
    "centre_coords = (250, 250)\n",
    "color = (0, 0, 255)\n",
    "thickness = 3\n",
    "axis = (150, 100)\n",
    "angle = 45\n",
    "start_angle = 0\n",
    "end_angle = 360\n",
    "\n",
    "elipse = cv2.ellipse(img6, centre_coords, axis, angle, start_angle, end_angle, color, thickness)\n",
    "cv2.imshow(\"Ellipse Image\", elipse)\n",
    "cv2.waitKey(0)\n",
    "cv2.destroyAllWindows()"
   ]
  },
  {
   "cell_type": "code",
   "execution_count": 12,
   "id": "9821e39e",
   "metadata": {},
   "outputs": [],
   "source": [
    "#Drawing polylines\n",
    "image = np.zeros((500, 500, 3), dtype = np.uint8)\n",
    "points = np.array([[100, 300], [200, 150], [400, 200], [400, 350], [150, 400], [300, 250]], np.int32)\n",
    "points = points.reshape((-1, 1, 2)) # Reshaped for openCV compatibility\n",
    "isclosed = True #True means it will draw a closed image\n",
    "\n",
    "cv2.polylines(image, [points], isclosed, (255, 0, 0), thickness = 2)\n",
    "cv2.imshow(\"Polylines\", image)\n",
    "cv2.waitKey(0)\n",
    "cv2.destroyAllWindows()"
   ]
  }
 ],
 "metadata": {
  "kernelspec": {
   "display_name": "Python 3",
   "language": "python",
   "name": "python3"
  },
  "language_info": {
   "codemirror_mode": {
    "name": "ipython",
    "version": 3
   },
   "file_extension": ".py",
   "mimetype": "text/x-python",
   "name": "python",
   "nbconvert_exporter": "python",
   "pygments_lexer": "ipython3",
   "version": "3.11.9"
  }
 },
 "nbformat": 4,
 "nbformat_minor": 5
}
