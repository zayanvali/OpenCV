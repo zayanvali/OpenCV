{
 "cells": [
  {
   "cell_type": "code",
   "execution_count": 1,
   "id": "d7620a80",
   "metadata": {},
   "outputs": [],
   "source": [
    "import cv2\n",
    "import numpy as np"
   ]
  },
  {
   "cell_type": "code",
   "execution_count": 2,
   "id": "55553387",
   "metadata": {},
   "outputs": [],
   "source": [
    "#Grayscaling of an image which is coloured\n",
    "img1 = cv2.imread(\"Images/scenery3.jpeg\")\n",
    "cv2.imshow(\"Original Image\", img1)\n",
    "cv2.waitKey(0)\n",
    "\n",
    "#Use the cvt colour function to grayscale the image\n",
    "gray_image = cv2.cvtColor(img1, cv2.COLOR_BGR2GRAY)\n",
    "cv2.imshow(\"Grayscale Image\", gray_image)\n",
    "cv2.waitKey(0)\n",
    "cv2.destroyAllWindows()"
   ]
  },
  {
   "cell_type": "code",
   "execution_count": 7,
   "id": "cf954536",
   "metadata": {},
   "outputs": [
    {
     "name": "stderr",
     "output_type": "stream",
     "text": [
      "C:\\Users\\valim\\AppData\\Local\\Temp\\ipykernel_13888\\3878296728.py:8: RuntimeWarning: overflow encountered in scalar add\n",
      "  img2[i, j] = sum(img2[i, j]) * 0.33\n"
     ]
    }
   ],
   "source": [
    "#Using average of pixels method to grayscale the image\n",
    "img2 = cv2.imread(\"Images/scenery3.jpeg\")\n",
    "(row, col) = img2.shape[0:2]\n",
    "\n",
    "for i in range(row):\n",
    "\tfor j in range(col):\n",
    "\t\t# Find the average of the BGR pixel values\n",
    "\t\timg2[i, j] = sum(img2[i, j]) * 0.33\n",
    "\n",
    "cv2.imshow('Grayscale Image', img2)\n",
    "cv2.waitKey(0)\n",
    "cv2.destroyAllWindows()"
   ]
  },
  {
   "cell_type": "code",
   "execution_count": 4,
   "id": "c86027a6",
   "metadata": {},
   "outputs": [
    {
     "data": {
      "text/plain": [
       "True"
      ]
     },
     "execution_count": 4,
     "metadata": {},
     "output_type": "execute_result"
    }
   ],
   "source": [
    "#Rotating an image\n",
    "img3 = cv2.imread(\"Images/scenery3.jpeg\")\n",
    "(row, col) = img3.shape[0:2]\n",
    "\n",
    "#GetRotationMatrix2D Creates a matrix needed for transformation\n",
    "m = cv2.getRotationMatrix2D((col/2, row/2), 45, 1)\n",
    "res = cv2.warpAffine(img3, m, (col, row))\n",
    "cv2.imwrite(\"Result.jpg\", res)"
   ]
  },
  {
   "cell_type": "code",
   "execution_count": 5,
   "id": "7a6fb1e9",
   "metadata": {},
   "outputs": [
    {
     "data": {
      "text/plain": [
       "True"
      ]
     },
     "execution_count": 5,
     "metadata": {},
     "output_type": "execute_result"
    }
   ],
   "source": [
    "# Edge detection of an image\n",
    "img4 = cv2.imread(\"Images/scenery3.jpeg\")\n",
    "#We are going to use CannyEdgeAlgorithm here\n",
    "edges = cv2.Canny(img4, 100, 200)\n",
    "cv2.imwrite(\"Result_New.jpg\", edges)"
   ]
  },
  {
   "cell_type": "code",
   "execution_count": 6,
   "id": "ea73ada3",
   "metadata": {},
   "outputs": [],
   "source": [
    "#Converting an image from one colour to another\n",
    "#Converting an image fro RGB to HSV\n",
    "\n",
    "img5 = cv2.imread(\"Images/scenery3.jpeg\")\n",
    "hsv_image = cv2.cvtColor(img5, cv2.COLOR_BGR2HSV)\n",
    "cv2.imshow(\"Color Frame\", hsv_image)\n",
    "cv2.waitKey(0)\n",
    "cv2.destroyAllWindows()"
   ]
  }
 ],
 "metadata": {
  "kernelspec": {
   "display_name": "Python 3",
   "language": "python",
   "name": "python3"
  },
  "language_info": {
   "codemirror_mode": {
    "name": "ipython",
    "version": 3
   },
   "file_extension": ".py",
   "mimetype": "text/x-python",
   "name": "python",
   "nbconvert_exporter": "python",
   "pygments_lexer": "ipython3",
   "version": "3.11.9"
  }
 },
 "nbformat": 4,
 "nbformat_minor": 5
}
